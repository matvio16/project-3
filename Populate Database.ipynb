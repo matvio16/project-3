{
 "cells": [
  {
   "cell_type": "code",
   "execution_count": 1,
   "metadata": {},
   "outputs": [],
   "source": [
    "import psycopg2 as psy\n",
    "from psycopg2.extensions import ISOLATION_LEVEL_AUTOCOMMIT"
   ]
  },
  {
   "cell_type": "code",
   "execution_count": 2,
   "metadata": {},
   "outputs": [],
   "source": [
    "con = psy.connect(\"user=postgres password = 'postgres'\")\n",
    "con.set_isolation_level(ISOLATION_LEVEL_AUTOCOMMIT)"
   ]
  },
  {
   "cell_type": "code",
   "execution_count": 3,
   "metadata": {},
   "outputs": [],
   "source": [
    "cursor = con.cursor()\n",
    "db_name = \"CountryGDP\"\n",
    "sql = \"create database \" + db_name\n",
    "cursor.execute(sql)"
   ]
  },
  {
   "cell_type": "code",
   "execution_count": 4,
   "metadata": {},
   "outputs": [],
   "source": [
    "#Connect to Database\n",
    "conn = psy.connect(\"dbname=countrygdp user=postgres password = 'postgres'\")\n",
    "cur = conn.cursor()"
   ]
  },
  {
   "cell_type": "code",
   "execution_count": 5,
   "metadata": {},
   "outputs": [],
   "source": [
    "#Create Countries table\n",
    "cur.execute(\"create table countries (country_id varchar primary key not null, country varchar not null);\")\n",
    "conn.commit()"
   ]
  },
  {
   "cell_type": "code",
   "execution_count": 6,
   "metadata": {},
   "outputs": [],
   "source": [
    "#Create Regions table\n",
    "cur.execute(\"create table regions (region_id varchar primary key not null, region varchar not null);\")\n",
    "conn.commit()"
   ]
  },
  {
   "cell_type": "code",
   "execution_count": 7,
   "metadata": {},
   "outputs": [],
   "source": [
    "#Create GDP table\n",
    "cur.execute(\"create table GDP (country_id varchar not null, region_id varchar not null,\\\n",
    "    population INT NOT NULL,\\\n",
    "    area_sq_mile INT NOT NULL,\\\n",
    "    pop_density float NOT NULL,\\\n",
    "    coastline_ratio float NOT NULL,\\\n",
    "    net_migration float NOT NULL,\\\n",
    "    infant_mortality_per_1000 float NOT NULL,\\\n",
    "    GDP_per_capita float NOT NULL,\\\n",
    "    literacy_pct float NOT NULL,\\\n",
    "    phones_per_1000 float NOT NULL,\\\n",
    "    birthrate float NOT NULL,\\\n",
    "    deathrate float NOT NULL);\")\n",
    "conn.commit()"
   ]
  },
  {
   "cell_type": "code",
   "execution_count": 8,
   "metadata": {},
   "outputs": [],
   "source": [
    "cur.execute(\"alter table gdp add constraint fk_gdp_country_id foreign key (country_id) references countries (country_id)\")\n",
    "conn.commit()"
   ]
  },
  {
   "cell_type": "code",
   "execution_count": 9,
   "metadata": {},
   "outputs": [],
   "source": [
    "cur.execute(\"alter table gdp add constraint fk_gdp_region_id foreign key (region_id) references regions (region_id)\")\n",
    "conn.commit()"
   ]
  },
  {
   "cell_type": "code",
   "execution_count": 10,
   "metadata": {},
   "outputs": [],
   "source": [
    "copy_sql = \"\"\"\n",
    "            copy countries from stdin with CSV HEADER\n",
    "            DELIMITER as ','\n",
    "            \"\"\"\n",
    "with open('Countries.csv', 'r') as file:\n",
    "    cur.copy_expert(sql=copy_sql, file=file)\n",
    "    conn.commit()"
   ]
  },
  {
   "cell_type": "code",
   "execution_count": 11,
   "metadata": {},
   "outputs": [],
   "source": [
    "copy_sql = \"\"\"\n",
    "            copy regions from stdin with CSV HEADER\n",
    "            DELIMITER as ','\n",
    "            \"\"\"\n",
    "with open('Regions.csv', 'r') as file:\n",
    "    cur.copy_expert(sql=copy_sql, file=file)\n",
    "    conn.commit()"
   ]
  },
  {
   "cell_type": "code",
   "execution_count": 12,
   "metadata": {},
   "outputs": [],
   "source": [
    "copy_sql = \"\"\"\n",
    "            copy gdp from stdin with CSV HEADER\n",
    "            DELIMITER as ','\n",
    "            \"\"\"\n",
    "with open('Data.csv', 'r') as file:\n",
    "    cur.copy_expert(sql=copy_sql, file=file)\n",
    "    conn.commit()"
   ]
  },
  {
   "cell_type": "code",
   "execution_count": 13,
   "metadata": {},
   "outputs": [],
   "source": [
    "#Close communication with the database\n",
    "cur.close()\n",
    "cursor.close()\n",
    "con.close()\n",
    "conn.close()"
   ]
  },
  {
   "cell_type": "code",
   "execution_count": null,
   "metadata": {},
   "outputs": [],
   "source": []
  }
 ],
 "metadata": {
  "kernelspec": {
   "display_name": "PythonData_082023",
   "language": "python",
   "name": "python3"
  },
  "language_info": {
   "codemirror_mode": {
    "name": "ipython",
    "version": 3
   },
   "file_extension": ".py",
   "mimetype": "text/x-python",
   "name": "python",
   "nbconvert_exporter": "python",
   "pygments_lexer": "ipython3",
   "version": "3.10.13"
  }
 },
 "nbformat": 4,
 "nbformat_minor": 2
}
